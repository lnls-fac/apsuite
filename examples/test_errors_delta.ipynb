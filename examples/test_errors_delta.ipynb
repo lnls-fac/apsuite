{
 "cells": [
  {
   "cell_type": "code",
   "execution_count": 1,
   "metadata": {},
   "outputs": [
    {
     "name": "stderr",
     "output_type": "stream",
     "text": [
      "Warning: Ignoring XDG_SESSION_TYPE=wayland on Gnome. Use QT_QPA_PLATFORM=wayland to run on Wayland anyway.\n"
     ]
    }
   ],
   "source": [
    "%matplotlib QT5\n",
    "import numpy as np\n",
    "import matplotlib.pyplot as plt\n",
    "\n",
    "import pyaccel\n",
    "import pymodels\n",
    "import idanalysis.optics as opt\n",
    "from apsuite import lattice_errors\n",
    "from apsuite.orbcorr import OrbitCorr, CorrParams\n",
    "from mathphys.functions import save_pickle, load_pickle\n"
   ]
  },
  {
   "attachments": {},
   "cell_type": "markdown",
   "metadata": {},
   "source": [
    "Load data"
   ]
  },
  {
   "cell_type": "code",
   "execution_count": 10,
   "metadata": {},
   "outputs": [],
   "source": [
    "data_mach = load_pickle('20_machines_seed_4736_sext_ramp.pickle')\n"
   ]
  },
  {
   "cell_type": "code",
   "execution_count": 11,
   "metadata": {},
   "outputs": [
    {
     "name": "stdout",
     "output_type": "stream",
     "text": [
      "1e-09\n",
      "0.5\n",
      "12\n"
     ]
    }
   ],
   "source": [
    "params = data_mach['orbcorr_params']\n",
    "print(params.tolerance)\n",
    "print(params.minsingval)\n",
    "print(params.maxnriters)\n"
   ]
  },
  {
   "cell_type": "code",
   "execution_count": 4,
   "metadata": {},
   "outputs": [],
   "source": [
    "def create_id():\n",
    "    ids = list()\n",
    "    IDModel = pymodels.si.IDModel\n",
    "    papu50 = IDModel(\n",
    "        subsec=IDModel.SUBSECTIONS.ID17SA,\n",
    "        file_name='/home/gabriel/repos/idanalysis/scripts/papu50/results/model/kickmaps/kickmap-ID_width40_phasepos00p000_gap24p0-shifted_on_axis.txt',\n",
    "        fam_name='PAPU50', nr_steps=40,\n",
    "        rescale_kicks=10, rescale_length=1)\n",
    "    ids.append(papu50)\n",
    "    return ids\n"
   ]
  },
  {
   "cell_type": "code",
   "execution_count": 17,
   "metadata": {},
   "outputs": [
    {
     "data": {
      "text/plain": [
       "'ID17SA'"
      ]
     },
     "execution_count": 17,
     "metadata": {},
     "output_type": "execute_result"
    }
   ],
   "source": [
    "ids = create_id()\n",
    "ids[0].subsec\n"
   ]
  },
  {
   "cell_type": "code",
   "execution_count": 2,
   "metadata": {},
   "outputs": [],
   "source": [
    "# phase, dgv\n",
    "config_dict = dict()\n",
    "config_dict[(0, 0)] = 0\n",
    "config_dict[(0, 13.125)] = 1\n",
    "config_dict[(0, 26.25)] = 2\n",
    "config_dict[(-13.125, 13.125)] = 3\n",
    "config_dict[(-13.125, 26.25)] = 4\n",
    "config_dict[(-26.25, 13.125)] = 5\n",
    "config_dict[(-26.25, 26.25)] = 6\n"
   ]
  },
  {
   "cell_type": "code",
   "execution_count": 3,
   "metadata": {},
   "outputs": [],
   "source": [
    "data = load_pickle('/media/gabriel/System/Gabriel/DELTA52/dynapt_342080_nominal.pickle')\n",
    "x0, y0 = data[0], data[1]\n"
   ]
  },
  {
   "cell_type": "code",
   "execution_count": 4,
   "metadata": {},
   "outputs": [
    {
     "name": "stdout",
     "output_type": "stream",
     "text": [
      "(7, 20, 9)\n"
     ]
    }
   ],
   "source": [
    "x = np.zeros((len(config_dict.values()), x0.shape[0], x0.shape[1]))\n",
    "y = np.zeros((len(config_dict.values()), x0.shape[0], x0.shape[1]))\n",
    "print(x.shape)\n",
    "for config, nr in config_dict.items():\n",
    "    fname = '/media/gabriel/System/Gabriel/DELTA52/dynapt_342080_config{}.pickle'.format(nr)\n",
    "    data = load_pickle(fname)\n",
    "    x[nr, :, :] = data[0]\n",
    "    y[nr, :, :] = data[1]\n"
   ]
  },
  {
   "cell_type": "code",
   "execution_count": 5,
   "metadata": {},
   "outputs": [
    {
     "name": "stdout",
     "output_type": "stream",
     "text": [
      "(7, 20, 9)\n"
     ]
    }
   ],
   "source": [
    "xm = np.zeros((len(config_dict.values()), x0.shape[0], x0.shape[1]))\n",
    "ym = np.zeros((len(config_dict.values()), x0.shape[0], x0.shape[1]))\n",
    "print(xm.shape)\n",
    "for config, nr in config_dict.items():\n",
    "    fname = '/media/gabriel/System/Gabriel/DELTA52/meas_dynapt_342080_config{}.pickle'.format(nr)\n",
    "    data = load_pickle(fname)\n",
    "    xm[nr, :, :] = data[0]\n",
    "    ym[nr, :, :] = data[1]\n"
   ]
  },
  {
   "cell_type": "code",
   "execution_count": 8,
   "metadata": {},
   "outputs": [],
   "source": [
    "x_mean = np.mean(x0, 0)\n",
    "x_rms = np.std(x0, 0)\n",
    "y_mean = np.mean(y0, 0)\n",
    "y_rms = np.std(y0, 0)\n",
    "\n",
    "x_mean1 = np.mean(x, 1)\n",
    "x_rms1 = np.std(x, 1)\n",
    "y_mean1 = np.mean(y, 1)\n",
    "y_rms1 = np.std(y, 1)\n",
    "\n",
    "x_mean_m = np.mean(xm, 1)\n",
    "x_rms_m = np.std(xm, 1)\n",
    "y_mean_m = np.mean(ym, 1)\n",
    "y_rms_m = np.std(ym, 1)\n",
    "\n",
    "\n",
    "fig, axs = plt.subplots(2, 1, sharex=True)\n",
    "fig.suptitle('DA for 20 machines w/ random errors')\n",
    "fig.set_figwidth(8)\n",
    "fig.set_figheight(6)\n",
    "for i in np.arange(x_mean1.shape[0]):\n",
    "    if i ==0:\n",
    "        axs[0].plot(1e3*x_mean1[i, :], 1e3*y_mean1[i, :], '-', label='W/ Delta', color='C1', alpha=.8)\n",
    "        axs[1].plot(1e3*x_mean_m[i, :], 1e3*y_mean_m[i, :], '-', label='W/ Delta', color='C0', alpha=.8)\n",
    "    else:\n",
    "        axs[0].plot(1e3*x_mean1[i, :], 1e3*y_mean1[i, :], '-', color='C1', alpha=.8)\n",
    "        axs[1].plot(1e3*x_mean_m[i, :], 1e3*y_mean_m[i, :], '-', color='C0', alpha=.8)\n",
    "    axs[0].plot(1e3*(x_mean1[i, :]-x_rms1[i, :]), 1e3*(y_mean1[i, :]+y_rms1[i, :]), '--', color='C1', alpha=.2)\n",
    "    axs[0].plot(1e3*(x_mean1[i, :]+x_rms1[i, :]), 1e3*(y_mean1[i, :]-y_rms1[i, :]), '--', color='C1', alpha=.2)\n",
    "    axs[1].plot(1e3*(x_mean_m[i, :]-x_rms_m[i, :]), 1e3*(y_mean_m[i, :]+y_rms1[i, :]), '--', color='C0', alpha=.2)\n",
    "    axs[1].plot(1e3*(x_mean_m[i, :]+x_rms_m[i, :]), 1e3*(y_mean_m[i, :]-y_rms1[i, :]), '--', color='C0', alpha=.2)\n",
    "axs[0].plot(1e3*x_mean, 1e3*y_mean, '.-', color='k', label='Nominal')\n",
    "axs[0].plot(1e3*(x_mean-x_rms), 1e3*(y_mean+y_rms), '--', color='k')\n",
    "axs[0].plot(1e3*(x_mean+x_rms), 1e3*(y_mean-y_rms), '--', color='k')\n",
    "axs[1].plot(1e3*x_mean, 1e3*y_mean, '.-', color='k', label='Nominal')\n",
    "axs[1].plot(1e3*(x_mean-x_rms), 1e3*(y_mean+y_rms), '--', color='k')\n",
    "axs[1].plot(1e3*(x_mean+x_rms), 1e3*(y_mean-y_rms), '--', color='k')\n",
    "axs[1].set_xlabel('x [mm]')\n",
    "axs[0].set_ylabel('y [mm]')\n",
    "axs[0].legend()\n",
    "axs[1].legend()\n",
    "axs[0].grid()\n",
    "axs[1].grid()\n",
    "axs[0].set_title('Fitted model')\n",
    "axs[1].set_title('Fieldmap measurements')\n",
    "plt.savefig('dynapt_delta.png')\n"
   ]
  },
  {
   "cell_type": "code",
   "execution_count": 6,
   "metadata": {},
   "outputs": [],
   "source": [
    "x_mean = np.mean(x0, 0)\n",
    "x_rms = np.std(x0, 0)\n",
    "y_mean = np.mean(y0, 0)\n",
    "y_rms = np.std(y0, 0)\n",
    "\n",
    "x_mean1 = np.mean(x, 1)\n",
    "x_rms1 = np.std(x, 1)\n",
    "y_mean1 = np.mean(y, 1)\n",
    "y_rms1 = np.std(y, 1)\n",
    "\n",
    "x_mean_m = np.mean(xm, 1)\n",
    "x_rms_m = np.std(xm, 1)\n",
    "y_mean_m = np.mean(ym, 1)\n",
    "y_rms_m = np.std(ym, 1)\n",
    "\n",
    "\n",
    "fig, axs = plt.subplots(1, 1, sharex=True)\n",
    "fig.suptitle('DA for 20 machines w/ random errors')\n",
    "fig.set_figwidth(8)\n",
    "fig.set_figheight(6)\n",
    "for i in np.arange(x_mean1.shape[0]):\n",
    "    if i ==0:\n",
    "        axs.plot(1e3*x_mean_m[i, :], 1e3*y_mean_m[i, :], '-', label='W/ Delta', color='C0', alpha=.8)\n",
    "    else:\n",
    "\n",
    "        axs.plot(1e3*x_mean_m[i, :], 1e3*y_mean_m[i, :], '-', color='C0', alpha=.8)\n",
    "\n",
    "    axs.plot(1e3*(x_mean_m[i, :]-x_rms_m[i, :]), 1e3*(y_mean_m[i, :]+y_rms1[i, :]), '--', color='C0', alpha=.2)\n",
    "    axs.plot(1e3*(x_mean_m[i, :]+x_rms_m[i, :]), 1e3*(y_mean_m[i, :]-y_rms1[i, :]), '--', color='C0', alpha=.2)\n",
    "\n",
    "axs.plot(1e3*x_mean, 1e3*y_mean, '.-', color='k', label='Nominal')\n",
    "axs.plot(1e3*(x_mean-x_rms), 1e3*(y_mean+y_rms), '--', color='k')\n",
    "axs.plot(1e3*(x_mean+x_rms), 1e3*(y_mean-y_rms), '--', color='k')\n",
    "axs.set_xlabel('x [mm]')\n",
    "\n",
    "axs.legend()\n",
    "\n",
    "axs.grid()\n",
    "\n",
    "axs.set_title('Fieldmap measurements')\n",
    "plt.savefig('dynapt_delta_meas.png')\n"
   ]
  }
 ],
 "metadata": {
  "kernelspec": {
   "display_name": "sirius",
   "language": "python",
   "name": "python3"
  },
  "language_info": {
   "codemirror_mode": {
    "name": "ipython",
    "version": 3
   },
   "file_extension": ".py",
   "mimetype": "text/x-python",
   "name": "python",
   "nbconvert_exporter": "python",
   "pygments_lexer": "ipython3",
   "version": "3.9.2"
  },
  "orig_nbformat": 4,
  "vscode": {
   "interpreter": {
    "hash": "bd47041ee29abeb3e94b753c188d5fca44afcfc2289c44ee2540cf8e7426cad6"
   }
  }
 },
 "nbformat": 4,
 "nbformat_minor": 2
}
