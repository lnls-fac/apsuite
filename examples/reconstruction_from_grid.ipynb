{
 "cells": [
  {
   "cell_type": "code",
   "execution_count": 1,
   "metadata": {},
   "outputs": [],
   "source": [
    "from multiprocessing import Pool\n",
    "import os\n",
    "\n",
    "import matplotlib.pyplot as plt\n",
    "import numpy as np\n",
    "import scipy.integrate as integrate\n",
    "import scipy.interpolate as interpolate\n",
    "import scipy.stats as scy_stats\n",
    "\n",
    "from mathphys.functions import load, save\n",
    "from apsuite.commisslib.tomography_linac import DistribReconstruction, \\\n",
    "    paint_convex, plot_convex, plot_lines, matrix_rotation, ScreenProcess, \\\n",
    "    matrix_to_scrn"
   ]
  },
  {
   "cell_type": "markdown",
   "metadata": {},
   "source": [
    "### Functions"
   ]
  },
  {
   "cell_type": "code",
   "execution_count": 2,
   "metadata": {},
   "outputs": [],
   "source": [
    "def bivariate_gaussian(mean, cov, gridx, gridy):\n",
    "    \"\"\"Computes a bivariate Gaussian distribution over a grid.\"\"\"\n",
    "    data = np.vstack([gridx.ravel(), gridy.ravel()]).T\n",
    "    vals1 = scy_stats.multivariate_normal.pdf(data, mean=mean, cov=cov)\n",
    "    return vals1.reshape(*gridx.shape)\n",
    "\n",
    "\n",
    "def rotates_distribution(points, angles):\n",
    "    \"\"\".\"\"\"\n",
    "    rotm = matrix_rotation(angles)\n",
    "    new_points = np.einsum(\"ijk,jl->kil\", rotm, points)\n",
    "    return new_points\n",
    "\n",
    "\n",
    "def get_projections(gridx, gridy, hists, proj_axis=\"x\", threshold=1e-5):\n",
    "    \"\"\"Computes projections of 2D histograms along a specified axis.\n",
    "\n",
    "    Args:\n",
    "    gridx (array): Grid of x-coordinates.\n",
    "    gridy (array): Grid of y-coordinates.\n",
    "    hists (list of arrays): List of 2D histograms to project.\n",
    "    proj_axis (str): Axis to project onto (\"x\" or \"y\").\n",
    "    threshold (float): Minimum value to include in the projection.\n",
    "\n",
    "    Returns:\n",
    "    tuple:\n",
    "        - projs_list (list of arrays): Projected histograms.\n",
    "        - bins_list (list of arrays): Bin edges for each projection.\n",
    "        - bins_size (list of floats): Bin sizes for each projection.\n",
    "    \"\"\"\n",
    "    if proj_axis == \"x\":\n",
    "        axis = 0\n",
    "        delta_proj = gridy[1, 0] - gridy[0, 0]\n",
    "        delta_bin = gridx[0, 1] - gridx[0, 0]\n",
    "    else:\n",
    "        axis = 1\n",
    "        delta_proj = gridx[0, 1] - gridx[0, 0]\n",
    "        delta_bin = gridy[1, 0] - gridy[0, 0]\n",
    "\n",
    "    projs_list = []\n",
    "    bins_list = []\n",
    "    bins_size = []\n",
    "    for hist in hists:\n",
    "        # hist sum must be normalized to one\n",
    "        proj = integrate.trapezoid(hist, dx=delta_proj, axis=axis)\n",
    "        mask = proj > threshold\n",
    "        first_true_idx = np.argmax(mask)\n",
    "        last_true_idx = len(mask) - np.argmax(mask[::-1]) - 1\n",
    "        idcs = np.arange(len(mask))\n",
    "        mask = (idcs >= first_true_idx) & (idcs <= last_true_idx)\n",
    "\n",
    "        proj = proj[mask]\n",
    "        pos = gridx[0, mask] if proj_axis == \"x\" else gridy[mask, 0]\n",
    "        min_bin = pos[0] - delta_bin / 2\n",
    "        max_bin = pos[-1] + delta_bin / 2\n",
    "\n",
    "        bins_list.append(np.arange(min_bin, max_bin + delta_bin, delta_bin))\n",
    "        projs_list.append(proj)\n",
    "        bins_size.append(delta_bin)\n",
    "\n",
    "    return projs_list, bins_list, bins_size\n",
    "\n",
    "\n",
    "def difference_btw_distributions(distrib_ini, distrib_rec, areas):\n",
    "    \"\"\".\"\"\"\n",
    "    diff_distribs = distrib_ini - distrib_rec\n",
    "    diff_distribs = np.sum(diff_distribs * diff_distribs * areas)\n",
    "    constant = np.sum(distrib_ini * distrib_ini * areas)\n",
    "    diff_distribs = np.sqrt(diff_distribs / constant)\n",
    "    return diff_distribs\n",
    "\n",
    "\n",
    "def plot_distrib_in_grid(fig, ax, gridx, gridy, distrib, p_nr, **kwargs):\n",
    "    \"\"\"Plot a distribution defined in a regular grid.\"\"\"\n",
    "    hist = distrib.copy()\n",
    "    hist[hist > 0] = np.power(hist[hist > 0], p_nr)\n",
    "    hist += np.min(hist)\n",
    "    hist /= hist.max()\n",
    "    ax.pcolormesh(gridx, gridy, hist, **kwargs)\n",
    "    return fig, ax\n",
    "\n",
    "\n",
    "def plot_reconstructed(\n",
    "    fig, ax, convexes, rec_distrib_val, p_nr, color_map=\"jet\"\n",
    "):\n",
    "    \"\"\"Plot a distribution defined in a convex grid.\"\"\"\n",
    "    cmap = getattr(plt.cm, color_map, plt.cm.jet)\n",
    "    dist = rec_distrib_val.copy()\n",
    "    dist[dist > 0] = np.power(dist[dist > 0], p_nr)\n",
    "    dist += np.min(dist)\n",
    "    dist /= dist.max()\n",
    "    color = cmap(dist)[:, :-1]\n",
    "    for i, convex in enumerate(convexes):\n",
    "        fig, ax = paint_convex(convex, fig=fig, ax=ax, color=color[i])\n",
    "    return fig, ax"
   ]
  },
  {
   "cell_type": "markdown",
   "metadata": {},
   "source": [
    "### Gaussian Distribution"
   ]
  },
  {
   "cell_type": "code",
   "execution_count": 3,
   "metadata": {},
   "outputs": [],
   "source": [
    "# Coordinates\n",
    "x_min, x_max = -60, 60\n",
    "y_min, y_max = -60, 60\n",
    "x_lim = [x_min, x_max]\n",
    "y_lim = [y_min, y_max]\n",
    "delta_x, delta_y = 1, 1\n",
    "\n",
    "x_bins = np.arange(x_min, x_max + delta_x, delta_x)\n",
    "y_bins = np.arange(y_min, y_max + delta_x, delta_y)\n",
    "x = (x_bins[:-1] + x_bins[1:]) / 2\n",
    "y = (y_bins[:-1] + y_bins[1:]) / 2\n",
    "gridx, gridy = np.meshgrid(x, y)\n",
    "coords = np.vstack([gridx.ravel(), gridy.ravel()])\n",
    "\n",
    "# Distribution 1\n",
    "mean_off = np.array([-19, 0]) * 0\n",
    "cov_scale = 1\n",
    "\n",
    "# Parameters\n",
    "mean1 = np.array([5, -5]) + mean_off\n",
    "cov1 = np.array([[100, 0], [0, 10]]) * cov_scale\n",
    "rot = matrix_rotation(np.pi / 4)\n",
    "cov1 = rot.T @ cov1 @ rot\n",
    "\n",
    "mean2 = np.array([-5, 0]) + mean_off\n",
    "cov2 = np.array([[100, 0], [0, 10]]) * cov_scale\n",
    "\n",
    "mean3 = np.array([-10, -15]) + mean_off\n",
    "cov3 = np.array([[5, 0], [0, 5]]) * cov_scale\n",
    "\n",
    "# Create Distribution\n",
    "z1 = bivariate_gaussian(mean1, cov1, gridx, gridy)\n",
    "z2 = bivariate_gaussian(mean2, cov2, gridx, gridy)\n",
    "z3 = bivariate_gaussian(mean3, cov3, gridx, gridy)\n",
    "\n",
    "original_distrib = z1 + z2 + z3 / 4\n",
    "\n",
    "# maxv = original_distrib.max()\n",
    "# original_distrib[original_distrib < 0.3*maxv] = 0.0*maxv\n",
    "\n",
    "proj1 = integrate.trapezoid(original_distrib, dx=delta_y, axis=1)\n",
    "norm_const = integrate.trapezoid(proj1, dx=delta_x)\n",
    "original_distrib /= norm_const\n",
    "\n",
    "# # Distribution 2\n",
    "\n",
    "# # Parameters\n",
    "# mean = np.array([0, 0])\n",
    "# cov = np.array([[50, 0], [0, 5]])\n",
    "\n",
    "# # Create Distribution\n",
    "# original_distrib = bivariate_gaussian(mean, cov, gridx, gridy)\n",
    "# proj1 = integrate.trapezoid(original_distrib, dx=delta_y, axis=1)\n",
    "# norm_const = integrate.trapezoid(proj1, dx=delta_x)\n",
    "# original_distrib /= norm_const"
   ]
  },
  {
   "cell_type": "code",
   "execution_count": 4,
   "metadata": {},
   "outputs": [
    {
     "data": {
      "image/png": "[encoded data removed]",
      "text/plain": [
       "<Figure size 500x500 with 1 Axes>"
      ]
     },
     "metadata": {},
     "output_type": "display_data"
    }
   ],
   "source": [
    "fig, ax = plt.subplots(1, 1, figsize=(5, 5))\n",
    "ax.pcolormesh(gridx, gridy, original_distrib, cmap=\"jet\")\n",
    "ax.set_aspect(\"equal\")\n",
    "ax.set_xlabel(\"x\")\n",
    "ax.set_ylabel(\"y\")\n",
    "fig.tight_layout()\n",
    "# fig.savefig(\"example_gauss_distrib.png\", dpi=600)"
   ]
  },
  {
   "cell_type": "markdown",
   "metadata": {},
   "source": [
    "### Histograms"
   ]
  },
  {
   "cell_type": "code",
   "execution_count": 26,
   "metadata": {},
   "outputs": [],
   "source": [
    "# Rotate grid-xy applying rotation matrices\n",
    "nr_angles = 5\n",
    "angles = np.deg2rad(np.linspace(0, 180, nr_angles, endpoint=False))\n",
    "rot_coords = rotates_distribution(coords, angles)\n",
    "rot_matrices = [matrix_rotation(a) for a in angles]\n",
    "\n",
    "# angles = np.linspace(0.0, 0.6, nr_angles)\n",
    "# rot_matrices = np.array([matrix_to_scrn(kl) for kl in angles])\n",
    "# rot_coords = rot_matrices @ coords"
   ]
  },
  {
   "cell_type": "code",
   "execution_count": 27,
   "metadata": {},
   "outputs": [],
   "source": [
    "# Interpolate shrinked grid in a new rectangular grid\n",
    "def process_for_interpolation(rot_coord):\n",
    "    \"\"\".\"\"\"\n",
    "    z_val_itp = interpolate.griddata(\n",
    "        rot_coord.T,\n",
    "        original_distrib.ravel(),\n",
    "        coords.T,\n",
    "        method=\"linear\",\n",
    "        fill_value=0,\n",
    "    )\n",
    "    z_val_itp = z_val_itp.reshape(gridx.shape)\n",
    "    proj1 = integrate.trapezoid(z_val_itp, dx=delta_y, axis=0)\n",
    "    norm_const = integrate.trapezoid(proj1, dx=delta_x)\n",
    "    return z_val_itp / norm_const\n",
    "\n",
    "\n",
    "def parallel_process_for_interpolation(rot_coords, max_processes=4):\n",
    "    \"\"\".\"\"\"\n",
    "    nr_processes = min(len(rot_coords), max_processes)\n",
    "\n",
    "    with Pool(processes=nr_processes) as pool:\n",
    "        hists = pool.map(process_for_interpolation, rot_coords)\n",
    "    return np.array(hists)\n",
    "\n",
    "\n",
    "hists = parallel_process_for_interpolation(rot_coords, max_processes=4)"
   ]
  },
  {
   "cell_type": "code",
   "execution_count": 28,
   "metadata": {},
   "outputs": [],
   "source": [
    "nr_plots = hists.shape[0]\n",
    "nr_cols = 2\n",
    "nr_rows = int(np.ceil(nr_plots / nr_cols))\n",
    "fig, axs = plt.subplots(\n",
    "    nr_rows, nr_cols, sharex=True, sharey=True, figsize=(6, 3 * nr_rows)\n",
    ")\n",
    "\n",
    "axs = axs.flat\n",
    "for i, ax in enumerate(axs):\n",
    "    if i < nr_plots:\n",
    "        ax.pcolormesh(gridx, gridy, hists[i], cmap=\"jet\")\n",
    "        ax.set_xlabel(\"x\")\n",
    "        ax.set_ylabel(\"y\")\n",
    "        angle = np.round(np.rad2deg(angles[i]))\n",
    "        ax.set_title(rf\"Rotated Distribution $\\theta={angle}$\")\n",
    "        ax.set_aspect(\"equal\")\n",
    "    else:\n",
    "        ax.axis(\"off\")\n",
    "fig.suptitle(f\"Number of Projections: {nr_angles}\")\n",
    "fig.tight_layout()"
   ]
  },
  {
   "cell_type": "markdown",
   "metadata": {},
   "source": [
    "### Projections"
   ]
  },
  {
   "cell_type": "code",
   "execution_count": 29,
   "metadata": {},
   "outputs": [],
   "source": [
    "projs_x, bins_x, bins_size_x = get_projections(gridx, gridy, hists)\n",
    "\n",
    "## Add noise to the distributions\n",
    "for proj in projs_x:\n",
    "    proj += np.random.randn(proj.size)*proj.max()*0.02 * 0\n",
    "    proj[proj<0] = 0\n",
    "\n",
    "# Normalize projection according to bin_size\n",
    "projs_x_bin = []\n",
    "\n",
    "for i, proj in enumerate(projs_x):\n",
    "    projs_x_bin.append(proj * bins_size_x[i])"
   ]
  },
  {
   "cell_type": "code",
   "execution_count": 31,
   "metadata": {},
   "outputs": [],
   "source": [
    "# plots the projection respect to each theta\n",
    "nr_plots = len(projs_x)\n",
    "nr_cols = 3\n",
    "nr_rows = int(np.ceil(nr_plots / nr_cols))\n",
    "fig, axs = plt.subplots(\n",
    "    nr_rows, nr_cols, sharex=True, sharey=True, figsize=(7, 3 * nr_rows)\n",
    ")\n",
    "\n",
    "axs = axs.flat\n",
    "for i, ax in enumerate(axs):\n",
    "    if i < nr_plots:\n",
    "        ax.grid(ls=\"--\", alpha=0.5)\n",
    "        ax.bar(\n",
    "            bins_x[i][:-1],\n",
    "            projs_x[i],\n",
    "            width=bins_size_x[i],\n",
    "            align=\"edge\",\n",
    "            zorder=2,\n",
    "            color=\"C0\",\n",
    "        )\n",
    "        angle = np.round(np.rad2deg(angles[i]))\n",
    "        ax.set_title(rf\"Projection in x $(\\theta={angle})$\")\n",
    "        ax.set_ylabel(\"count\")\n",
    "    else:\n",
    "        ax.axis(\"off\")\n",
    "\n",
    "if nr_plots > nr_cols:\n",
    "    axs[nr_plots - nr_cols].set_xlabel(\"x\")\n",
    "axs[nr_plots - 1].set_xlabel(\"x\")\n",
    "\n",
    "fig.suptitle(f\"Number of Projections: {nr_angles}\")\n",
    "fig.tight_layout()\n",
    "# fig.savefig(f\"projections_j{nr_angles}.png\", dpi=600)"
   ]
  },
  {
   "cell_type": "markdown",
   "metadata": {},
   "source": [
    "### Create Reconstruction Object"
   ]
  },
  {
   "cell_type": "code",
   "execution_count": 35,
   "metadata": {},
   "outputs": [
    {
     "name": "stdout",
     "output_type": "stream",
     "text": [
      "Params:\n",
      "    nrpts_per_bin = 3\n",
      "    lagmult_fancy_init = False\n",
      "    loop_num_iterations = 100\n",
      "    min_lagmult_change = 1e-05\n",
      "    gain_per_iteration = 1.00\n",
      "    max_lagmult_step = 1.00\n",
      "    min_relative_chi2 = 1e-05\n",
      "    sing_vals_cutoff_ratio = 0.001\n",
      "\n",
      "number of projections: 15\n",
      "number of bins per projection: [79, 83, 83, 82, 79, 75, 70, 63, 53, 44, 47, 56, 66, 71, 76]\n",
      "gridx num points = 237\n",
      "gridy num points = 174\n",
      "total num points = 41238\n",
      "\n"
     ]
    }
   ],
   "source": [
    "dist_rec = DistribReconstruction(\n",
    "    matrices=rot_matrices,\n",
    "    projs=projs_x_bin,\n",
    "    projs_bins=bins_x,\n",
    ")\n",
    "\n",
    "dist_rec.params.lagmult_fancy_init = False\n",
    "dist_rec.params.sing_vals_cutoff_ratio = 1e-3\n",
    "print(dist_rec)"
   ]
  },
  {
   "cell_type": "code",
   "execution_count": 33,
   "metadata": {},
   "outputs": [
    {
     "data": {
      "text/plain": [
       "Text(0.5, 0.98, 'Number of Projections: 15')"
      ]
     },
     "execution_count": 33,
     "metadata": {},
     "output_type": "execute_result"
    }
   ],
   "source": [
    "# Plot region for reconstruction\n",
    "fig, ax = plt.subplots(1, 1, figsize=(5, 5))\n",
    "\n",
    "fig, ax = plot_lines(dist_rec.raveled_lines, fig=fig, ax=ax, color=\"k\", lw=0.3, alpha=0.4)\n",
    "fig, ax = plot_convex(dist_rec.main_convex, fig=fig, ax=ax, ms=0, color=\"C0\")\n",
    "ax.set_aspect(\"equal\")\n",
    "# ax.set_xlim(-40, 40)\n",
    "# ax.set_ylim(-40, 40)\n",
    "ax.set_xlabel(\"x\")\n",
    "ax.set_ylabel(\"y\")\n",
    "fig.tight_layout()\n",
    "fig.suptitle(f\"Number of Projections: {nr_angles}\")\n",
    "# fig.savefig(f\"convex_grid_j{nr_angles}.png\", dpi=600)"
   ]
  },
  {
   "cell_type": "markdown",
   "metadata": {},
   "source": [
    "### Get Distribution"
   ]
  },
  {
   "cell_type": "code",
   "execution_count": 36,
   "metadata": {},
   "outputs": [
    {
     "name": "stdout",
     "output_type": "stream",
     "text": [
      "0001/0100 -> max. rel. change=1.00e+00, nr_svs=0918/1027, rel. chi_square=5.89e+05\n",
      "0002/0100 -> max. rel. change=5.18e-01, nr_svs=0918/1027, rel. chi_square=7.96e+04\n",
      "0003/0100 -> max. rel. change=3.58e-01, nr_svs=0918/1027, rel. chi_square=1.07e+04\n",
      "0004/0100 -> max. rel. change=2.81e-01, nr_svs=0918/1027, rel. chi_square=1.44e+03\n",
      "0005/0100 -> max. rel. change=2.41e-01, nr_svs=0918/1027, rel. chi_square=1.89e+02\n",
      "0006/0100 -> max. rel. change=2.23e-01, nr_svs=0918/1027, rel. chi_square=2.40e+01\n",
      "0007/0100 -> max. rel. change=2.19e-01, nr_svs=0917/1027, rel. chi_square=2.82e+00\n",
      "0008/0100 -> max. rel. change=2.53e-01, nr_svs=0913/1027, rel. chi_square=3.05e-01\n",
      "0009/0100 -> max. rel. change=5.54e-01, nr_svs=0906/1027, rel. chi_square=3.14e-02\n",
      "0010/0100 -> max. rel. change=1.22e+00, nr_svs=0896/1027, rel. chi_square=3.09e-03\n",
      "0011/0100 -> max. rel. change=7.25e+00, nr_svs=0873/1027, rel. chi_square=2.90e-04\n",
      "0012/0100 -> max. rel. change=5.94e+00, nr_svs=0773/1027, rel. chi_square=2.68e-05\n",
      "0013/0100 -> max. rel. change=7.28e-01, nr_svs=0671/1027, rel. chi_square=4.49e-06\n",
      "Finished!\n"
     ]
    }
   ],
   "source": [
    "dist_rec.reconstruct_distribution()"
   ]
  },
  {
   "cell_type": "code",
   "execution_count": 37,
   "metadata": {},
   "outputs": [],
   "source": [
    "convergence = np.array(dist_rec.convergence_info)\n",
    "\n",
    "fig, ax = plt.subplots(1, 1)\n",
    "\n",
    "ax.plot(convergence[:, 0], convergence[:, 1], \"o\")\n",
    "ay = ax.twinx()\n",
    "ay.plot(convergence[:, 0], convergence[:, 3], 'ko')\n",
    "ay.set_yscale('log')\n",
    "ax.set_yscale(\"log\")\n",
    "\n",
    "ax.grid(ls=\"--\", alpha=0.5)\n",
    "ay.set_ylabel(r'Relative $\\chi^2$')\n",
    "ax.set_xlabel(\"iteration\")\n",
    "ax.set_ylabel(r\"$\\Delta\\lambda_{jm}^{(i+1)}\\,\\,/\\,\\,\\lambda_{jm}^{(i)}$\", color='C0')\n",
    "ax.tick_params(axis='y', colors='C0', which='both')\n",
    "ax.spines['left'].set_color('C0')\n",
    "ay.spines['left'].set_visible(False)\n",
    "# np.savetxt(f\"convergence_j{nr_angles}.txt\", convergence)"
   ]
  },
  {
   "cell_type": "code",
   "execution_count": 38,
   "metadata": {},
   "outputs": [
    {
     "data": {
      "text/plain": [
       "Text(0.5, 0.98, 'Number of projections: 15')"
      ]
     },
     "execution_count": 38,
     "metadata": {},
     "output_type": "execute_result"
    }
   ],
   "source": [
    "%matplotlib qt5\n",
    "\n",
    "# Compare simulated distribution with reconstructed one\n",
    "\n",
    "fig, (ax, ay) = plt.subplots(1, 2, sharex=True, sharey=True, figsize=(8, 4))\n",
    "\n",
    "fig, ax = plot_distrib_in_grid(\n",
    "    fig, ax, gridx, gridy, original_distrib, 1, cmap=\"jet\"\n",
    ")\n",
    "ax.set_title(\"Original Distribution\")\n",
    "\n",
    "distrib = dist_rec.get_model_distribution().reshape(dist_rec.model_gridx.shape)\n",
    "fig, ay = plot_lines(dist_rec.raveled_lines, fig=fig, ax=ay, color=\"k\", lw=0.1, alpha=0.5)\n",
    "fig, ay = plot_distrib_in_grid(\n",
    "    fig, ay, dist_rec.model_gridx, dist_rec.model_gridy, distrib, 1, cmap=\"jet\"\n",
    ")\n",
    "\n",
    "ay.set_title(\"Recontruction from Projections\")\n",
    "\n",
    "fig.suptitle(f\"Number of projections: {nr_angles}\")\n",
    "# fig.savefig(f\"reconstruction_j{nr_angles}.png\", dpi=600)"
   ]
  },
  {
   "cell_type": "code",
   "execution_count": 39,
   "metadata": {},
   "outputs": [
    {
     "data": {
      "text/plain": [
       "<matplotlib.legend.Legend at 0x7f316d1d8eb0>"
      ]
     },
     "execution_count": 39,
     "metadata": {},
     "output_type": "execute_result"
    }
   ],
   "source": [
    "# Compare values of langrange multiplier\n",
    "fig, ax = plt.subplots(1, 1)\n",
    "\n",
    "init_lagmults = dist_rec.init_lagmults\n",
    "for j in range(nr_angles):\n",
    "    ax.plot(dist_rec.lagmults[j], \"-o\", label=f\"proj. {j}\")\n",
    "    ax.plot(np.log(dist_rec.projs_meas[j]), \"-\", color=f'C{j:d}')\n",
    "    ax.plot(init_lagmults[j], \"--\", color=f'C{j:d}')\n",
    "ax.set_yscale(\"linear\")\n",
    "ax.set_title(\"Lagrange Multipliers\")\n",
    "ax.grid(ls=\"--\", alpha=0.5)\n",
    "ax.legend()"
   ]
  },
  {
   "cell_type": "code",
   "execution_count": 40,
   "metadata": {},
   "outputs": [
    {
     "data": {
      "text/plain": [
       "Text(0, 0.5, 'y')"
      ]
     },
     "execution_count": 40,
     "metadata": {},
     "output_type": "execute_result"
    }
   ],
   "source": [
    "# Compare projections of simulated distribution and reconstructed one\n",
    "projs_calc = dist_rec.get_model_projections()\n",
    "nr_projs = dist_rec.nr_projs\n",
    "\n",
    "fig, axs = plt.subplots(1, nr_projs, figsize=(4*nr_projs, 4))\n",
    "\n",
    "for i, ax in enumerate(axs):\n",
    "    x_plot = ScreenProcess.bin_to_position(bins_x[i])\n",
    "    ax.plot(x_plot, projs_x_bin[i], \"-o\", label=\"meas.\")\n",
    "    ax.plot(x_plot, projs_calc[i], \"-o\", label=\"calc.\")\n",
    "    ax.legend()\n",
    "    ax.set_title(f\"Projection {i}\")\n",
    "    ax.set_xlabel(\"x\")\n",
    "    ax.grid(ls=\"--\", alpha=0.5)\n",
    "axs[0].set_ylabel(\"y\")"
   ]
  },
  {
   "cell_type": "markdown",
   "metadata": {},
   "source": [
    "### Compare Distributions"
   ]
  },
  {
   "cell_type": "code",
   "execution_count": 40,
   "metadata": {},
   "outputs": [],
   "source": [
    "# Interpolates initial distribution in polygon's centroid\n",
    "hist = original_distrib.copy()\n",
    "grid_area = delta_x * delta_y\n",
    "points = np.vstack([gridx.ravel(), gridy.ravel()]).T\n",
    "hist_values = hist.ravel()\n",
    "\n",
    "ini_distrib_itp = interpolate_distrib_in_cvxs(\n",
    "    hist_values, centroids, areas, points\n",
    ")"
   ]
  },
  {
   "cell_type": "code",
   "execution_count": 47,
   "metadata": {},
   "outputs": [
    {
     "name": "stdout",
     "output_type": "stream",
     "text": [
      "difference in convexes:\n",
      "0.3922534599909907\n"
     ]
    }
   ],
   "source": [
    "print(\"difference in convexes:\")\n",
    "diff = difference_btw_distributions(ini_distrib_itp, rec_distrib_val, areas)\n",
    "print(diff)"
   ]
  },
  {
   "cell_type": "code",
   "execution_count": 48,
   "metadata": {},
   "outputs": [
    {
     "name": "stdout",
     "output_type": "stream",
     "text": [
      "difference in regular grid:\n",
      "0.39540726091931583\n"
     ]
    }
   ],
   "source": [
    "diff = difference_btw_distributions(\n",
    "    hist.ravel(), rec_distrib_itp.ravel(), grid_areas\n",
    ")\n",
    "print(\"difference in regular grid:\")\n",
    "print(diff)\n",
    "# np.savetxt(f\"diff_btw_distribs_j{nr_angles}.txt\", [nr_angles, diff])"
   ]
  },
  {
   "cell_type": "code",
   "execution_count": null,
   "metadata": {},
   "outputs": [],
   "source": []
  }
 ],
 "metadata": {
  "kernelspec": {
   "display_name": "Python 3",
   "language": "python",
   "name": "python3"
  },
  "language_info": {
   "codemirror_mode": {
    "name": "ipython",
    "version": 3
   },
   "file_extension": ".py",
   "mimetype": "text/x-python",
   "name": "python",
   "nbconvert_exporter": "python",
   "pygments_lexer": "ipython3",
   "version": "3.9.2"
  }
 },
 "nbformat": 4,
 "nbformat_minor": 4
}
