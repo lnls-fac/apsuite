{
 "cells": [
  {
   "cell_type": "code",
   "execution_count": 1,
   "metadata": {},
   "outputs": [],
   "source": [
    "import numpy as np\n",
    "import matplotlib.pyplot as plt\n",
    "\n",
    "import pyaccel\n",
    "import pymodels\n",
    "from apsuite import WIP_lattice_errors\n",
    "from mathphys.functions import save_pickle, load_pickle"
   ]
  },
  {
   "attachments": {},
   "cell_type": "markdown",
   "metadata": {},
   "source": [
    "Creating errors configs"
   ]
  },
  {
   "cell_type": "code",
   "execution_count": 2,
   "metadata": {},
   "outputs": [],
   "source": [
    "dips_error = WIP_lattice_errors.DipolesErrors()\n",
    "quads_error = WIP_lattice_errors.QuadsErrors()\n",
    "sexts_error = WIP_lattice_errors.SextsErrors()\n",
    "girder_error = WIP_lattice_errors.GirderErrors()\n",
    "bpms_error = WIP_lattice_errors.BpmsErrors()\n",
    "error_configs = [dips_error, quads_error, sexts_error, girder_error,\n",
    "                 bpms_error]"
   ]
  },
  {
   "attachments": {},
   "cell_type": "markdown",
   "metadata": {},
   "source": [
    "Generate errors and save in a file"
   ]
  },
  {
   "cell_type": "code",
   "execution_count": 4,
   "metadata": {},
   "outputs": [],
   "source": [
    "# get family data\n",
    "model = pymodels.si.create_accelerator()\n",
    "fam_data = pymodels.si.families.get_family_data(model)\n",
    "\n",
    "# generate errors and save in a file\n",
    "seed = 131070\n",
    "errors = WIP_lattice_errors.ManageErrors.generate_errors(\n",
    "    error_configs, 20, 2, fam_data, seed=seed)\n",
    "save_pickle(errors, 'errors', overwrite=True)"
   ]
  },
  {
   "attachments": {},
   "cell_type": "markdown",
   "metadata": {},
   "source": [
    "Load error file"
   ]
  },
  {
   "cell_type": "code",
   "execution_count": 5,
   "metadata": {},
   "outputs": [
    {
     "name": "stdout",
     "output_type": "stream",
     "text": [
      "dict_keys(['B1', 'B2', 'BC', 'QFA', 'QDA', 'Q1', 'Q2', 'Q3', 'Q4', 'QDB1', 'QFB', 'QDB2', 'QDP1', 'QFP', 'QDP2', 'SFA0', 'SDA0', 'SDA1', 'SFA1', 'SDA2', 'SDA3', 'SFA2', 'SFB2', 'SDB3', 'SDB2', 'SFB1', 'SDB1', 'SDB0', 'SFB0', 'SFP2', 'SDP3', 'SDP2', 'SFP1', 'SDP1', 'SDP0', 'SFP0', 'girder', 'BPM'])\n",
      "B1:\n",
      "dict_keys(['posx', 'posy', 'roll', 'pitch', 'yaw', 'excitation', 'kdip', 'normal_multipoles', 'skew_multipoles', 'index'])\n",
      "(40, 30)\n",
      "(20, 40)\n",
      "QFA:\n",
      "dict_keys(['posx', 'posy', 'roll', 'pitch', 'yaw', 'excitation', 'normal_multipoles', 'skew_multipoles', 'index'])\n",
      "(10, 1)\n",
      "(20, 10)\n",
      "[-2.54547755e-06  0.00000000e+00  2.55097099e-05 -4.92650162e-05\n",
      "  2.97971305e-05 -2.15934317e-05  1.38891008e-05  1.58680618e-05\n",
      "  3.66143558e-05  2.68299177e-05]\n"
     ]
    }
   ],
   "source": [
    "data = load_pickle('errors')\n",
    "print(data.keys())\n",
    "print('B1:')\n",
    "print(data['B1'].keys())\n",
    "print(np.shape(data['B1']['index']))\n",
    "print(np.shape(data['B1']['posx']))\n",
    "print('QFA:')\n",
    "print(data['QFA'].keys())\n",
    "print(np.shape(data['QFA']['index']))\n",
    "print(np.shape(data['QFA']['posx']))\n",
    "print(data['QFA']['posx'][0])"
   ]
  },
  {
   "cell_type": "code",
   "execution_count": null,
   "metadata": {},
   "outputs": [],
   "source": []
  }
 ],
 "metadata": {
  "kernelspec": {
   "display_name": "sirius",
   "language": "python",
   "name": "python3"
  },
  "language_info": {
   "codemirror_mode": {
    "name": "ipython",
    "version": 3
   },
   "file_extension": ".py",
   "mimetype": "text/x-python",
   "name": "python",
   "nbconvert_exporter": "python",
   "pygments_lexer": "ipython3",
   "version": "3.9.2"
  },
  "orig_nbformat": 4,
  "vscode": {
   "interpreter": {
    "hash": "bd47041ee29abeb3e94b753c188d5fca44afcfc2289c44ee2540cf8e7426cad6"
   }
  }
 },
 "nbformat": 4,
 "nbformat_minor": 2
}
