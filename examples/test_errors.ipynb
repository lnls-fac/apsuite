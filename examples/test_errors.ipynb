{
 "cells": [
  {
   "cell_type": "code",
   "execution_count": 67,
   "metadata": {},
   "outputs": [],
   "source": [
    "%matplotlib QT5\n",
    "import numpy as np\n",
    "import matplotlib.pyplot as plt\n",
    "\n",
    "import pyaccel\n",
    "import pymodels\n",
    "import idanalysis.optics as opt\n",
    "from apsuite.optics_analysis import TuneCorr, OpticsCorr, CouplingCorr\n",
    "from apsuite.orbcorr import OrbitCorr, CorrParams\n",
    "from mathphys.functions import save_pickle, load_pickle"
   ]
  },
  {
   "attachments": {},
   "cell_type": "markdown",
   "metadata": {},
   "source": [
    "Load data"
   ]
  },
  {
   "cell_type": "code",
   "execution_count": 68,
   "metadata": {},
   "outputs": [],
   "source": [
    "data_mach = load_pickle('SI_20_machines_seed_90560.pickle')"
   ]
  },
  {
   "cell_type": "code",
   "execution_count": 44,
   "metadata": {},
   "outputs": [
    {
     "data": {
      "text/plain": [
       "dict_keys(['step_1', 'step_2', 'step_3', 'step_4', 'step_5', 'step_7', 'step_final'])"
      ]
     },
     "execution_count": 44,
     "metadata": {},
     "output_type": "execute_result"
    }
   ],
   "source": [
    "data_mach[4]['data'].keys()"
   ]
  },
  {
   "cell_type": "code",
   "execution_count": 60,
   "metadata": {},
   "outputs": [
    {
     "name": "stdout",
     "output_type": "stream",
     "text": [
      "65.07535138809016\n",
      "72.07021114041831\n",
      "68.67786972792366\n",
      "69.9779485112649\n",
      "63.49930804803765\n"
     ]
    }
   ],
   "source": [
    "for mach in np.arange(0, 5):\n",
    "    model = data_mach[mach]['model']\n",
    "    orb = pyaccel.tracking.find_orbit4(model, indices='open')\n",
    "    plt.plot(1e6*orb[2])\n",
    "    print(np.std(1e6*orb[0]))"
   ]
  },
  {
   "cell_type": "code",
   "execution_count": 61,
   "metadata": {},
   "outputs": [
    {
     "data": {
      "text/plain": [
       "<matplotlib.legend.Legend at 0x7f912c1f7400>"
      ]
     },
     "execution_count": 61,
     "metadata": {},
     "output_type": "execute_result"
    }
   ],
   "source": [
    "for mach in np.arange(0, 5):\n",
    "    model = data_mach[mach]['model']\n",
    "    twiss, *_ = pyaccel.optics.calc_twiss(model)\n",
    "    etay = twiss.etay\n",
    "    plt.plot(1e3*etay, label=mach)\n",
    "plt.legend()"
   ]
  },
  {
   "cell_type": "code",
   "execution_count": 72,
   "metadata": {},
   "outputs": [],
   "source": [
    "plt.figure()\n",
    "for mach in np.arange(0, 20):\n",
    "    model = data_mach[mach]['model']\n",
    "    twiss, *_ = pyaccel.optics.calc_twiss(model)\n",
    "    etay = twiss.etay\n",
    "    plt.plot(1e3*etay)"
   ]
  },
  {
   "cell_type": "code",
   "execution_count": null,
   "metadata": {},
   "outputs": [],
   "source": [
    "for mach in np.arange(0,20):\n",
    "    print(data_mach[mach]['data'].keys())"
   ]
  },
  {
   "cell_type": "code",
   "execution_count": 62,
   "metadata": {},
   "outputs": [
    {
     "name": "stdout",
     "output_type": "stream",
     "text": [
      "Unexpected exception formatting exception. Falling back to standard exception\n"
     ]
    },
    {
     "name": "stderr",
     "output_type": "stream",
     "text": [
      "Traceback (most recent call last):\n",
      "  File \"/opt/mamba_files/mamba/envs/sirius/lib/python3.9/site-packages/IPython/core/interactiveshell.py\", line 3378, in run_code\n",
      "    exec(code_obj, self.user_global_ns, self.user_ns)\n",
      "  File \"/tmp/ipykernel_3913/4074428602.py\", line 5, in <module>\n",
      "    orbcorr = OrbitCorr(model, 'SI', '4d', params=ocorr_params)\n",
      "  File \"/home/gabriel/repos/apsuite/apsuite/orbcorr/orbit_correction.py\", line 45, in __init__\n",
      "  File \"/home/gabriel/repos/apsuite/apsuite/orbcorr/calc_orbcorr_mat.py\", line 26, in __init__\n",
      "    self.fam_data = si.get_family_data(self.model)\n",
      "  File \"/home/gabriel/repos/pymodels/pymodels/SI_V25_04/families.py\", line 352, in get_family_data\n",
      "    section_map = get_section_name_mapping(lattice)\n",
      "  File \"/home/gabriel/repos/pymodels/pymodels/SI_V25_04/families.py\", line 285, in get_section_name_mapping\n",
      "    if b1[0] > start:\n",
      "IndexError: list index out of range\n",
      "\n",
      "During handling of the above exception, another exception occurred:\n",
      "\n",
      "Traceback (most recent call last):\n",
      "  File \"/opt/mamba_files/mamba/envs/sirius/lib/python3.9/site-packages/IPython/core/interactiveshell.py\", line 1997, in showtraceback\n",
      "    stb = self.InteractiveTB.structured_traceback(\n",
      "  File \"/opt/mamba_files/mamba/envs/sirius/lib/python3.9/site-packages/IPython/core/ultratb.py\", line 1112, in structured_traceback\n",
      "    return FormattedTB.structured_traceback(\n",
      "  File \"/opt/mamba_files/mamba/envs/sirius/lib/python3.9/site-packages/IPython/core/ultratb.py\", line 1006, in structured_traceback\n",
      "    return VerboseTB.structured_traceback(\n",
      "  File \"/opt/mamba_files/mamba/envs/sirius/lib/python3.9/site-packages/IPython/core/ultratb.py\", line 859, in structured_traceback\n",
      "    formatted_exception = self.format_exception_as_a_whole(etype, evalue, etb, number_of_lines_of_context,\n",
      "  File \"/opt/mamba_files/mamba/envs/sirius/lib/python3.9/site-packages/IPython/core/ultratb.py\", line 812, in format_exception_as_a_whole\n",
      "    frames.append(self.format_record(r))\n",
      "  File \"/opt/mamba_files/mamba/envs/sirius/lib/python3.9/site-packages/IPython/core/ultratb.py\", line 730, in format_record\n",
      "    result += ''.join(_format_traceback_lines(frame_info.lines, Colors, self.has_colors, lvals))\n",
      "  File \"/opt/mamba_files/mamba/envs/sirius/lib/python3.9/site-packages/stack_data/utils.py\", line 145, in cached_property_wrapper\n",
      "    value = obj.__dict__[self.func.__name__] = self.func(obj)\n",
      "  File \"/opt/mamba_files/mamba/envs/sirius/lib/python3.9/site-packages/stack_data/core.py\", line 734, in lines\n",
      "    pieces = self.included_pieces\n",
      "  File \"/opt/mamba_files/mamba/envs/sirius/lib/python3.9/site-packages/stack_data/utils.py\", line 145, in cached_property_wrapper\n",
      "    value = obj.__dict__[self.func.__name__] = self.func(obj)\n",
      "  File \"/opt/mamba_files/mamba/envs/sirius/lib/python3.9/site-packages/stack_data/core.py\", line 681, in included_pieces\n",
      "    pos = scope_pieces.index(self.executing_piece)\n",
      "  File \"/opt/mamba_files/mamba/envs/sirius/lib/python3.9/site-packages/stack_data/utils.py\", line 145, in cached_property_wrapper\n",
      "    value = obj.__dict__[self.func.__name__] = self.func(obj)\n",
      "  File \"/opt/mamba_files/mamba/envs/sirius/lib/python3.9/site-packages/stack_data/core.py\", line 660, in executing_piece\n",
      "    return only(\n",
      "  File \"/opt/mamba_files/mamba/envs/sirius/lib/python3.9/site-packages/executing/executing.py\", line 164, in only\n",
      "    raise NotOneValueFound('Expected one value, found 0')\n",
      "executing.executing.NotOneValueFound: Expected one value, found 0\n"
     ]
    }
   ],
   "source": [
    "mach = 0\n",
    "model = data_mach[mach]['model']\n",
    "ocorr_params = data_mach['orbcorr_params']\n",
    "orb0 = data_mach[mach]['data']['step_1']['ref_orb']\n",
    "orbcorr = OrbitCorr(model, 'SI', '4d', params=ocorr_params)\n",
    "# kicks = orbcorr.get_kicks()\n",
    "# kicks *= 0\n",
    "# orbcorr.set_kicks(kicks)\n",
    "\n",
    "jac_error = orbcorr.get_jacobian_matrix()\n",
    "orbcorr.correct_orbit(\n",
    "                jacobian_matrix=jac_error, goal_orbit=orb0)"
   ]
  },
  {
   "cell_type": "code",
   "execution_count": null,
   "metadata": {},
   "outputs": [],
   "source": [
    "plt.plot()"
   ]
  },
  {
   "cell_type": "code",
   "execution_count": null,
   "metadata": {},
   "outputs": [],
   "source": [
    "model_nominal = pymodels.si.create_accelerator()\n",
    "model_nominal.cavity_on = False\n",
    "model_nominal.radiation_on = 0\n",
    "model_nominal.vchamber_on = False\n",
    "ocorr_params = data_mach['orbcorr_params']\n",
    "orbcorr = OrbitCorr(model_nominal, 'SI', '4d', params=ocorr_params)\n",
    "jac = orbcorr.get_jacobian_matrix()"
   ]
  },
  {
   "cell_type": "code",
   "execution_count": null,
   "metadata": {},
   "outputs": [],
   "source": [
    "plt.plot(jac_error.ravel()-jac.ravel())"
   ]
  },
  {
   "cell_type": "code",
   "execution_count": null,
   "metadata": {},
   "outputs": [],
   "source": [
    "for mach in data_mach.keys():\n",
    "    print(mach)"
   ]
  },
  {
   "cell_type": "code",
   "execution_count": null,
   "metadata": {},
   "outputs": [],
   "source": [
    "params = data_mach['orbcorr_params']\n",
    "print(params.minsingval)\n",
    "print(params.maxnriters)\n",
    "print(params.tolerance)"
   ]
  },
  {
   "attachments": {},
   "cell_type": "markdown",
   "metadata": {},
   "source": [
    "plot final COD for all machines"
   ]
  },
  {
   "cell_type": "code",
   "execution_count": 64,
   "metadata": {},
   "outputs": [
    {
     "name": "stdout",
     "output_type": "stream",
     "text": [
      "Unexpected exception formatting exception. Falling back to standard exception\n"
     ]
    },
    {
     "name": "stderr",
     "output_type": "stream",
     "text": [
      "Traceback (most recent call last):\n",
      "  File \"/opt/mamba_files/mamba/envs/sirius/lib/python3.9/site-packages/IPython/core/interactiveshell.py\", line 3378, in run_code\n",
      "    exec(code_obj, self.user_global_ns, self.user_ns)\n",
      "  File \"/tmp/ipykernel_3913/90285897.py\", line 5, in <module>\n",
      "    orbcorr = OrbitCorr(model, 'SI', '4d', params=ocorr_params)\n",
      "  File \"/home/gabriel/repos/apsuite/apsuite/orbcorr/orbit_correction.py\", line 45, in __init__\n",
      "  File \"/home/gabriel/repos/apsuite/apsuite/orbcorr/calc_orbcorr_mat.py\", line 26, in __init__\n",
      "    self.fam_data = si.get_family_data(self.model)\n",
      "  File \"/home/gabriel/repos/pymodels/pymodels/SI_V25_04/families.py\", line 352, in get_family_data\n",
      "    section_map = get_section_name_mapping(lattice)\n",
      "  File \"/home/gabriel/repos/pymodels/pymodels/SI_V25_04/families.py\", line 285, in get_section_name_mapping\n",
      "    if b1[0] > start:\n",
      "IndexError: list index out of range\n",
      "\n",
      "During handling of the above exception, another exception occurred:\n",
      "\n",
      "Traceback (most recent call last):\n",
      "  File \"/opt/mamba_files/mamba/envs/sirius/lib/python3.9/site-packages/IPython/core/interactiveshell.py\", line 1997, in showtraceback\n",
      "    stb = self.InteractiveTB.structured_traceback(\n",
      "  File \"/opt/mamba_files/mamba/envs/sirius/lib/python3.9/site-packages/IPython/core/ultratb.py\", line 1112, in structured_traceback\n",
      "    return FormattedTB.structured_traceback(\n",
      "  File \"/opt/mamba_files/mamba/envs/sirius/lib/python3.9/site-packages/IPython/core/ultratb.py\", line 1006, in structured_traceback\n",
      "    return VerboseTB.structured_traceback(\n",
      "  File \"/opt/mamba_files/mamba/envs/sirius/lib/python3.9/site-packages/IPython/core/ultratb.py\", line 859, in structured_traceback\n",
      "    formatted_exception = self.format_exception_as_a_whole(etype, evalue, etb, number_of_lines_of_context,\n",
      "  File \"/opt/mamba_files/mamba/envs/sirius/lib/python3.9/site-packages/IPython/core/ultratb.py\", line 812, in format_exception_as_a_whole\n",
      "    frames.append(self.format_record(r))\n",
      "  File \"/opt/mamba_files/mamba/envs/sirius/lib/python3.9/site-packages/IPython/core/ultratb.py\", line 730, in format_record\n",
      "    result += ''.join(_format_traceback_lines(frame_info.lines, Colors, self.has_colors, lvals))\n",
      "  File \"/opt/mamba_files/mamba/envs/sirius/lib/python3.9/site-packages/stack_data/utils.py\", line 145, in cached_property_wrapper\n",
      "    value = obj.__dict__[self.func.__name__] = self.func(obj)\n",
      "  File \"/opt/mamba_files/mamba/envs/sirius/lib/python3.9/site-packages/stack_data/core.py\", line 734, in lines\n",
      "    pieces = self.included_pieces\n",
      "  File \"/opt/mamba_files/mamba/envs/sirius/lib/python3.9/site-packages/stack_data/utils.py\", line 145, in cached_property_wrapper\n",
      "    value = obj.__dict__[self.func.__name__] = self.func(obj)\n",
      "  File \"/opt/mamba_files/mamba/envs/sirius/lib/python3.9/site-packages/stack_data/core.py\", line 681, in included_pieces\n",
      "    pos = scope_pieces.index(self.executing_piece)\n",
      "  File \"/opt/mamba_files/mamba/envs/sirius/lib/python3.9/site-packages/stack_data/utils.py\", line 145, in cached_property_wrapper\n",
      "    value = obj.__dict__[self.func.__name__] = self.func(obj)\n",
      "  File \"/opt/mamba_files/mamba/envs/sirius/lib/python3.9/site-packages/stack_data/core.py\", line 660, in executing_piece\n",
      "    return only(\n",
      "  File \"/opt/mamba_files/mamba/envs/sirius/lib/python3.9/site-packages/executing/executing.py\", line 164, in only\n",
      "    raise NotOneValueFound('Expected one value, found 0')\n",
      "executing.executing.NotOneValueFound: Expected one value, found 0\n"
     ]
    }
   ],
   "source": [
    "plt.figure()\n",
    "for mach in np.arange(0,5):\n",
    "    model = data_mach[mach]['model']\n",
    "    orb0 = data_mach[mach]['data']['step_1']['ref_orb']\n",
    "    orbcorr = OrbitCorr(model, 'SI', '4d', params=ocorr_params)\n",
    "    jac_error = orbcorr.get_jacobian_matrix()\n",
    "    orbcorr.correct_orbit(\n",
    "                jacobian_matrix=jac, goal_orbit=orb0)\n",
    "    orbf = orbcorr.get_orbit()\n",
    "    cod = orbf-orb0\n",
    "    print('{:.2f} %'.format(np.std(1e6*cod)))\n",
    "    if np.max(1e6*cod) >= 100:\n",
    "        print('error mach:', mach)\n",
    "    plt.plot(1e6*cod)"
   ]
  },
  {
   "cell_type": "code",
   "execution_count": 70,
   "metadata": {},
   "outputs": [
    {
     "name": "stdout",
     "output_type": "stream",
     "text": [
      "rms x: 46.416 [um]\n",
      "rms y: 46.738 [um]\n",
      "rms x: 52.012 [um]\n",
      "rms y: 46.522 [um]\n",
      "rms x: 47.218 [um]\n",
      "rms y: 50.746 [um]\n",
      "rms x: 51.395 [um]\n",
      "rms y: 46.169 [um]\n",
      "rms x: 49.111 [um]\n",
      "rms y: 46.179 [um]\n",
      "rms x: 49.159 [um]\n",
      "rms y: 52.212 [um]\n",
      "rms x: 45.958 [um]\n",
      "rms y: 45.795 [um]\n",
      "rms x: 48.792 [um]\n",
      "rms y: 50.500 [um]\n",
      "rms x: 48.096 [um]\n",
      "rms y: 50.995 [um]\n",
      "rms x: 50.840 [um]\n",
      "rms y: 47.644 [um]\n",
      "rms x: 45.712 [um]\n",
      "rms y: 50.213 [um]\n",
      "rms x: 49.604 [um]\n",
      "rms y: 42.102 [um]\n",
      "rms x: 49.187 [um]\n",
      "rms y: 51.659 [um]\n",
      "rms x: 49.493 [um]\n",
      "rms y: 45.922 [um]\n",
      "rms x: 50.844 [um]\n",
      "rms y: 48.536 [um]\n",
      "rms x: 46.591 [um]\n",
      "rms y: 47.918 [um]\n",
      "rms x: 51.617 [um]\n",
      "rms y: 49.250 [um]\n",
      "rms x: 53.506 [um]\n",
      "rms y: 43.650 [um]\n",
      "rms x: 49.531 [um]\n",
      "rms y: 48.207 [um]\n",
      "rms x: 50.631 [um]\n",
      "rms y: 49.181 [um]\n"
     ]
    }
   ],
   "source": [
    "plt.figure()\n",
    "for mach in np.arange(0, 20):\n",
    "    orb0 = data_mach[mach]['data']['step_final']['ref_orb']\n",
    "    cod = orb0\n",
    "    codx = cod[0:int(len(cod)/2)]\n",
    "    cody = cod[int(len(cod)/2):]\n",
    "    rmsx = np.std(1e6*codx)\n",
    "    rmsy = np.std(1e6*cody)\n",
    "    print('rms x: {:.3f} [um]'.format(rmsx))\n",
    "    print('rms y: {:.3f} [um]'.format(rmsy))\n",
    "    plt.plot(1e6*cod)"
   ]
  },
  {
   "cell_type": "code",
   "execution_count": 71,
   "metadata": {},
   "outputs": [
    {
     "name": "stdout",
     "output_type": "stream",
     "text": [
      "rms x: 17.656 [um]\n",
      "rms y: 0.788 [um]\n",
      "rms x: 18.616 [um]\n",
      "rms y: 0.301 [um]\n",
      "rms x: 18.427 [um]\n",
      "rms y: 1.043 [um]\n",
      "rms x: 16.501 [um]\n",
      "rms y: 0.289 [um]\n",
      "rms x: 15.788 [um]\n",
      "rms y: 0.363 [um]\n",
      "rms x: 19.785 [um]\n",
      "rms y: 0.359 [um]\n",
      "rms x: 19.033 [um]\n",
      "rms y: 0.778 [um]\n",
      "rms x: 21.973 [um]\n",
      "rms y: 0.346 [um]\n",
      "rms x: 19.583 [um]\n",
      "rms y: 1.023 [um]\n",
      "rms x: 17.908 [um]\n",
      "rms y: 0.395 [um]\n",
      "rms x: 16.952 [um]\n",
      "rms y: 0.426 [um]\n",
      "rms x: 17.651 [um]\n",
      "rms y: 0.326 [um]\n",
      "rms x: 16.151 [um]\n",
      "rms y: 0.437 [um]\n",
      "rms x: 18.853 [um]\n",
      "rms y: 4.841 [um]\n",
      "rms x: 17.222 [um]\n",
      "rms y: 0.328 [um]\n",
      "rms x: 19.109 [um]\n",
      "rms y: 0.373 [um]\n",
      "rms x: 19.639 [um]\n",
      "rms y: 0.845 [um]\n",
      "rms x: 17.260 [um]\n",
      "rms y: 0.438 [um]\n",
      "rms x: 16.204 [um]\n",
      "rms y: 0.455 [um]\n",
      "rms x: 19.881 [um]\n",
      "rms y: 0.338 [um]\n"
     ]
    }
   ],
   "source": [
    "plt.figure()\n",
    "for mach in np.arange(0, 20):\n",
    "    orbf = data_mach[mach]['data']['step_final']['orbit']\n",
    "    orb0 = data_mach[mach]['data']['step_final']['ref_orb']\n",
    "    cod = orbf-orb0\n",
    "    codx = cod[0:int(len(cod)/2)]\n",
    "    cody = cod[int(len(cod)/2):]\n",
    "    rmsx = np.std(1e6*codx)\n",
    "    rmsy = np.std(1e6*cody)\n",
    "    print('rms x: {:.3f} [um]'.format(rmsx))\n",
    "    print('rms y: {:.3f} [um]'.format(rmsy))\n",
    "    plt.plot(1e6*cod)"
   ]
  },
  {
   "attachments": {},
   "cell_type": "markdown",
   "metadata": {},
   "source": [
    "Plot final correctors kicks for all machines"
   ]
  },
  {
   "cell_type": "code",
   "execution_count": null,
   "metadata": {},
   "outputs": [],
   "source": [
    "plt.figure()\n",
    "for mach in np.arange(0,20):\n",
    "    kicks7 = data_mach[mach]['data']['step_final']['corr_kicks'][:-1]\n",
    "    # kicks6 = data_mach[mach]['data']['step_6']['corr_kicks'][:-1]\n",
    "    # deltakick = kicks7 - kicks6\n",
    "    plt.plot(1e6*kicks7)"
   ]
  },
  {
   "attachments": {},
   "cell_type": "markdown",
   "metadata": {},
   "source": [
    "Verify if final COD is in the null-space of orb respmat"
   ]
  },
  {
   "cell_type": "code",
   "execution_count": null,
   "metadata": {},
   "outputs": [],
   "source": [
    "plt.figure()\n",
    "minsingval = 0.2\n",
    "respmats = load_pickle('respmats.pickle')\n",
    "orbmat = respmats['orbmat']\n",
    "\n",
    "\n",
    "umat, smat, vmat = np.linalg.svd(orbmat, full_matrices=False)\n",
    "idx = smat > minsingval\n",
    "ismat = np.zeros(smat.shape, dtype=float)\n",
    "ismat[idx] = 1/smat[idx]\n",
    "ismat = np.dot(vmat.T*ismat, umat.T)\n",
    "for mach in np.arange(0,20):\n",
    "    orbf = data_mach[mach]['data']['step_final']['orbit']\n",
    "    orb0 = data_mach[mach]['data']['step_final']['ref_orb']\n",
    "    kicks7 = data_mach[mach]['data']['step_final']['corr_kicks'][:-1]\n",
    "    cod = orbf-orb0\n",
    "    dkicks = -1*np.dot(ismat, cod)\n",
    "    plt.plot(1e6*dkicks)"
   ]
  },
  {
   "attachments": {},
   "cell_type": "markdown",
   "metadata": {},
   "source": [
    "Plot final beta-beating for all machines"
   ]
  },
  {
   "cell_type": "code",
   "execution_count": 52,
   "metadata": {},
   "outputs": [
    {
     "ename": "IndexError",
     "evalue": "index 2097 is out of bounds for axis 0 with size 2097",
     "output_type": "error",
     "traceback": [
      "\u001b[0;31m---------------------------------------------------------------------------\u001b[0m",
      "\u001b[0;31mIndexError\u001b[0m                                Traceback (most recent call last)",
      "\u001b[1;32m/home/gabriel/repos/apsuite/examples/test_errors.ipynb Cell 24\u001b[0m in \u001b[0;36m1\n\u001b[1;32m     <a href='vscode-notebook-cell:/home/gabriel/repos/apsuite/examples/test_errors.ipynb#X32sZmlsZQ%3D%3D?line=15'>16</a>\u001b[0m fig, axs \u001b[39m=\u001b[39m plt\u001b[39m.\u001b[39msubplots(\u001b[39m2\u001b[39m)\n\u001b[1;32m     <a href='vscode-notebook-cell:/home/gabriel/repos/apsuite/examples/test_errors.ipynb#X32sZmlsZQ%3D%3D?line=16'>17</a>\u001b[0m \u001b[39mfor\u001b[39;00m mach \u001b[39min\u001b[39;00m \u001b[39mrange\u001b[39m(\u001b[39m20\u001b[39m):\n\u001b[0;32m---> <a href='vscode-notebook-cell:/home/gabriel/repos/apsuite/examples/test_errors.ipynb#X32sZmlsZQ%3D%3D?line=17'>18</a>\u001b[0m     bbeatx \u001b[39m=\u001b[39m \u001b[39m1e2\u001b[39m\u001b[39m*\u001b[39mdata_mach[mach][\u001b[39m'\u001b[39;49m\u001b[39mdata\u001b[39;49m\u001b[39m'\u001b[39;49m][\u001b[39m'\u001b[39;49m\u001b[39mstep_final\u001b[39;49m\u001b[39m'\u001b[39;49m][\u001b[39m'\u001b[39;49m\u001b[39mbetabeatingx\u001b[39;49m\u001b[39m'\u001b[39;49m][idcs_nominal]\n\u001b[1;32m     <a href='vscode-notebook-cell:/home/gabriel/repos/apsuite/examples/test_errors.ipynb#X32sZmlsZQ%3D%3D?line=18'>19</a>\u001b[0m     bbeaty \u001b[39m=\u001b[39m \u001b[39m1e2\u001b[39m\u001b[39m*\u001b[39mdata_mach[mach][\u001b[39m'\u001b[39m\u001b[39mdata\u001b[39m\u001b[39m'\u001b[39m][\u001b[39m'\u001b[39m\u001b[39mstep_final\u001b[39m\u001b[39m'\u001b[39m][\u001b[39m'\u001b[39m\u001b[39mbetabeatingy\u001b[39m\u001b[39m'\u001b[39m][idcs_nominal]\n\u001b[1;32m     <a href='vscode-notebook-cell:/home/gabriel/repos/apsuite/examples/test_errors.ipynb#X32sZmlsZQ%3D%3D?line=19'>20</a>\u001b[0m     bbtx[mach] \u001b[39m=\u001b[39m np\u001b[39m.\u001b[39mstd(bbeatx)\n",
      "\u001b[0;31mIndexError\u001b[0m: index 2097 is out of bounds for axis 0 with size 2097"
     ]
    }
   ],
   "source": [
    "si = pymodels.si.create_accelerator()\n",
    "mib = pyaccel.lattice.find_indices(si, 'fam_name', 'mib')\n",
    "mip = pyaccel.lattice.find_indices(si, 'fam_name', 'mip')\n",
    "mia = pyaccel.lattice.find_indices(si, 'fam_name', 'mia')\n",
    "bpms = pyaccel.lattice.find_indices(si, 'fam_name', 'BPM')\n",
    "idcs_nominal = mia + mib + mip + bpms\n",
    "idcs_nominal.sort()\n",
    "twiss0, *_ = pyaccel.optics.calc_twiss(si)\n",
    "betax0 = twiss0.betax[idcs_nominal]\n",
    "betay0 = twiss0.betay[idcs_nominal]\n",
    "etax0 = twiss0.etax[idcs_nominal]\n",
    "etay0 = twiss0.etay\n",
    "\n",
    "bbtx = np.zeros(20)\n",
    "bbty = np.zeros(20)\n",
    "fig, axs = plt.subplots(2)\n",
    "for mach in range(20):\n",
    "    bbeatx = 1e2*data_mach[mach]['data']['step_final']['betabeatingx'][idcs_nominal]\n",
    "    bbeaty = 1e2*data_mach[mach]['data']['step_final']['betabeatingy'][idcs_nominal]\n",
    "    bbtx[mach] = np.std(bbeatx)\n",
    "    bbty[mach] = np.std(bbeaty)\n",
    "    print('beta beating x: {:.2f} %'.format(np.std(bbeatx)))\n",
    "    print('beta beating y: {:.2f} %'.format(np.std(bbeaty)))\n",
    "    print()\n",
    "    axs[0].plot(bbeatx, label=mach)\n",
    "    axs[1].plot(bbeaty, label=mach)\n",
    "print('beta beating x average: {:.2f} %'.format(np.mean(bbtx)))\n",
    "print('beta beating y average: {:.2f} %'.format(np.mean(bbty)))"
   ]
  },
  {
   "cell_type": "code",
   "execution_count": null,
   "metadata": {},
   "outputs": [],
   "source": [
    "fig, axs = plt.subplots(2)\n",
    "etx = np.zeros(20)\n",
    "for mach in np.arange(20):\n",
    "    model = data_mach[mach]['model']\n",
    "    # get indices of bpms and straight sections center\n",
    "    mib = pyaccel.lattice.find_indices(model, 'fam_name', 'mib')\n",
    "    mip = pyaccel.lattice.find_indices(model, 'fam_name', 'mip')\n",
    "    mia = pyaccel.lattice.find_indices(model, 'fam_name', 'mia')\n",
    "    bpms = pyaccel.lattice.find_indices(model, 'fam_name', 'BPM')\n",
    "    idcs = mia + mib + mip + bpms\n",
    "    idcs.sort()\n",
    "\n",
    "    twiss, *_ = pyaccel.optics.calc_twiss(model)\n",
    "    etax = twiss.etax[idcs]\n",
    "    etay = twiss.etay\n",
    "    etax_diff = 1e3*(etax - etax0)\n",
    "\n",
    "    etx[mach] = np.std(etax_diff)\n",
    "    print('eta x diff: {:.2f} mm'.format(np.std(etax_diff)))\n",
    "    print('eta y : {:.2f} mm'.format(np.std(1e3*etay)))\n",
    "   \n",
    "    print()\n",
    "    axs[0].plot(1e3*etax_diff)\n",
    "    axs[1].plot(1e3*etay)"
   ]
  },
  {
   "cell_type": "code",
   "execution_count": 53,
   "metadata": {},
   "outputs": [
    {
     "name": "stdout",
     "output_type": "stream",
     "text": [
      "Minimum tune separation 1.26 %:\n",
      "Minimum tune separation 0.97 %:\n",
      "Minimum tune separation 0.81 %:\n",
      "Minimum tune separation 0.91 %:\n",
      "Minimum tune separation 0.35 %:\n"
     ]
    }
   ],
   "source": [
    "for mach in np.arange(5):\n",
    "    model = data_mach[mach]['model']\n",
    "    ed_tang, *_ = pyaccel.optics.calc_edwards_teng(model)\n",
    "    min_tunesep, ratio =\\\n",
    "            pyaccel.optics.estimate_coupling_parameters(ed_tang)\n",
    "    print('Minimum tune separation {:.2f} %:'.format(100*min_tunesep))"
   ]
  },
  {
   "cell_type": "code",
   "execution_count": null,
   "metadata": {},
   "outputs": [],
   "source": [
    "fig, axs = plt.subplots(2)\n",
    "\n",
    "for mach in range(20):\n",
    "    twiss = data_mach[mach]['data']['step_final']['twiss']\n",
    "    axs[0].plot(1e3*twiss.etax, label=mach)\n",
    "    axs[1].plot(1e3*twiss.etay, label=mach)\n",
    "axs[0].legend()"
   ]
  },
  {
   "attachments": {},
   "cell_type": "markdown",
   "metadata": {},
   "source": [
    "Calc DA"
   ]
  },
  {
   "cell_type": "code",
   "execution_count": 187,
   "metadata": {},
   "outputs": [],
   "source": [
    "nrconfigs = 5\n",
    "data = load_pickle('dynapt_90560')\n",
    "x0, y0 = data[0], data[1]"
   ]
  },
  {
   "cell_type": "code",
   "execution_count": 188,
   "metadata": {},
   "outputs": [],
   "source": [
    "dim = (nrconfigs + 1, ) + np.shape(x0)\n",
    "x, y = np.zeros(dim), np.zeros(dim)\n",
    "x[0, :], y[0, :] = x0, y0\n",
    "for i in range(0, nrconfigs, 1):\n",
    "    config = str(i)\n",
    "    data = load_pickle('dynapt_90560_config' + config)\n",
    "    x[i+1, :], y[i+1, :] = data[0], data[1]"
   ]
  },
  {
   "cell_type": "code",
   "execution_count": 189,
   "metadata": {},
   "outputs": [],
   "source": [
    "plt.figure()\n",
    "labels = ['bare lattice', 'w = 24 mm', 'w = 26 mm', 'w = 28 mm', 'w = 30 mm', 'w = 32 mm']\n",
    "for i in range(0, nrconfigs+1, 1):\n",
    "    xi, yi = x[i], y[i]\n",
    "    for mach in np.arange(0, 20):\n",
    "        if mach == 0:\n",
    "            plt.plot(1e3*xi[mach,:], 1e3*yi[mach,:], '--', \n",
    "                     color=plt.cm.jet(i/nrconfigs),\n",
    "                     label=labels[i])\n",
    "        else:\n",
    "            plt.plot(1e3*xi[mach,:], 1e3*yi[mach,:], '--', \n",
    "                     color=plt.cm.jet(i/nrconfigs))\n",
    "       \n",
    "plt.xlabel('x [mm]')\n",
    "plt.ylabel('y [mm]')\n",
    "plt.legend()\n",
    "plt.show()\n",
    "# plt.savefig(title+'.png')"
   ]
  },
  {
   "cell_type": "code",
   "execution_count": 183,
   "metadata": {},
   "outputs": [],
   "source": [
    "nrtheta = 9\n",
    "x_mean, y_mean = np.zeros((nrconfigs+1, nrtheta)), np.zeros((nrconfigs+1, nrtheta))\n",
    "x_rms, y_rms = np.zeros((nrconfigs+1, nrtheta)), np.zeros((nrconfigs+1, nrtheta))\n",
    "\n",
    "for i in range(nrconfigs + 1):\n",
    "    x_mean[i, :] = np.mean(x[i], axis=0)\n",
    "    y_mean[i, :] = np.mean(y[i], axis=0)\n",
    "    x_rms[i, :] = np.std(x[i], axis=0)\n",
    "    y_rms[i, :] = np.std(y[i], axis=0)\n",
    "\n",
    "plt.figure()\n",
    "plt.suptitle('avg DA +/- rms')\n",
    "for i in range(0, nrconfigs + 1, 1):\n",
    "    plt.plot(1e3*x_mean[i, :], 1e3*y_mean[i, :], '.-', \n",
    "         color=plt.cm.jet(i/nrconfigs), \n",
    "         label=labels[i])\n",
    "    plt.plot(1e3*(x_mean[i, :]-x_rms[i, ]), \n",
    "             1e3*(y_mean[i, :]+y_rms[i, :]), '--',\n",
    "             color=plt.cm.jet(i/nrconfigs))\n",
    "    plt.plot(1e3*(x_mean[i, :]+x_rms[i, :]), \n",
    "             1e3*(y_mean[i, :]-y_rms[i, :]), '--', \n",
    "             color=plt.cm.jet(i/nrconfigs))\n",
    "plt.xlabel('x [mm]')\n",
    "plt.ylabel('y [mm]')\n",
    "plt.legend()\n",
    "plt.grid()\n",
    "plt.show()\n",
    "# plt.savefig(title + ' mean.png')"
   ]
  }
 ],
 "metadata": {
  "kernelspec": {
   "display_name": "sirius",
   "language": "python",
   "name": "python3"
  },
  "language_info": {
   "codemirror_mode": {
    "name": "ipython",
    "version": 3
   },
   "file_extension": ".py",
   "mimetype": "text/x-python",
   "name": "python",
   "nbconvert_exporter": "python",
   "pygments_lexer": "ipython3",
   "version": "3.9.2"
  },
  "orig_nbformat": 4,
  "vscode": {
   "interpreter": {
    "hash": "bd47041ee29abeb3e94b753c188d5fca44afcfc2289c44ee2540cf8e7426cad6"
   }
  }
 },
 "nbformat": 4,
 "nbformat_minor": 2
}
