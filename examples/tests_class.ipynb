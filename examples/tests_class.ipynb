{
 "cells": [
  {
   "cell_type": "code",
   "execution_count": 12,
   "metadata": {},
   "outputs": [],
   "source": [
    "import pymodels\n",
    "from apsuite import lattice_errors\n",
    "import numpy as np"
   ]
  },
  {
   "cell_type": "code",
   "execution_count": 27,
   "metadata": {},
   "outputs": [],
   "source": [
    "# Configure errors\n",
    "dips_error = lattice_errors.DipolesErrors()\n",
    "quads_error = lattice_errors.QuadsErrors()\n",
    "quads_skew_error = lattice_errors.QuadsSkewErrors()\n",
    "sexts_error = lattice_errors.SextsErrors()\n",
    "girder_error = lattice_errors.GirderErrors()\n",
    "bpms_error = lattice_errors.BPMErrors()\n",
    "error_configs = [dips_error, quads_error, sexts_error, quads_skew_error,\n",
    "                     bpms_error, girder_error]"
   ]
  },
  {
   "cell_type": "code",
   "execution_count": 4,
   "metadata": {},
   "outputs": [
    {
     "name": "stdout",
     "output_type": "stream",
     "text": [
      "527616\n"
     ]
    }
   ],
   "source": [
    "# Create nominal model and get family data\n",
    "model = pymodels.si.create_accelerator()\n",
    "model.cavity_on = False\n",
    "model.radiation_on = 0\n",
    "model.vchamber_on = False\n",
    "famdata = pymodels.si.families.get_family_data(model)\n",
    "\n",
    "# Create GenerateErrors object\n",
    "nr_mach = 20\n",
    "generate_errors = lattice_errors.GenerateErrors()\n",
    "generate_errors.nr_mach = nr_mach\n",
    "generate_errors.generate_new_seed()\n",
    "# generate_errors.seed = 302336\n",
    "generate_errors.reset_seed()\n",
    "print(generate_errors.seed)\n",
    "generate_errors.famdata = famdata\n",
    "generate_errors.error_configs = error_configs\n",
    "generate_errors.cutoff = 1\n",
    "generate_errors.generate_errors(save_errors=True)\n",
    "errors = generate_errors.load_error_file(\n",
    "        str(nr_mach) + '_errors_seed_' + str(generate_errors.seed))"
   ]
  },
  {
   "cell_type": "code",
   "execution_count": 32,
   "metadata": {},
   "outputs": [],
   "source": [
    "def generate_normal_dist(sigma, dim, mean=0.0):\n",
    "        \"\"\"Generate errors following a truncated normal distribution.\n",
    "\n",
    "        Args:\n",
    "            sigma (float): standart deviation of the errors.\n",
    "            dim (tuple, list): Tuple with the sizes of each dimension of the\n",
    "                error distribution. Usually with will  be a tuple in which the\n",
    "                first element is the number of machines and the second is the\n",
    "                number of elements where the errors will be applied.\n",
    "            mean (float, optional): mean value of the errors. Defaults to 0.0.\n",
    "\n",
    "        Returns:\n",
    "            numpy.ndarray : array with error distribution with the dimension\n",
    "                defined by dim.\n",
    "\n",
    "        \"\"\"\n",
    "        idx = np.arange(np.prod(dim))\n",
    "        dist = np.zeros(idx.size, dtype=float)\n",
    "        while idx.size:\n",
    "            dist[idx] = np.random.randn(idx.size)\n",
    "            idx = (np.abs(dist) > 1).nonzero()[0]\n",
    "        dist *= sigma\n",
    "        dist += mean\n",
    "        return dist.reshape(*dim)"
   ]
  },
  {
   "cell_type": "code",
   "execution_count": 35,
   "metadata": {},
   "outputs": [],
   "source": [
    "def generate_errors(error_configs, famdata):\n",
    "        \"\"\"Generate a dictionary with all errors separated by machine and\n",
    "             family.\n",
    "\n",
    "        Args:\n",
    "            save_errors (bool, optional): If true this dictionary will be\n",
    "                    saved. Defaults to False.\n",
    "\n",
    "        Returns:\n",
    "            dict: dictionary with all errors.\n",
    "\n",
    "        \"\"\"\n",
    "        nr_mach = 2\n",
    "        fam_errors_dict = dict()\n",
    "        confs = [(c, f) for c in error_configs for f in c.fam_names]\n",
    "        for config, fam_name in confs:\n",
    "            idcs = np.array(\n",
    "                famdata[fam_name]['index'], dtype=\"object\")\n",
    "            err_types = {'index': idcs}\n",
    "            for e_type, sigma in config.sigmas_dict.items():\n",
    "                if e_type != 'multipoles':\n",
    "                    err_types[e_type] = generate_normal_dist(\n",
    "                        sigma=sigma, dim=(nr_mach, len(idcs)))\n",
    "                    continue\n",
    "                mpole_dict_n = dict()\n",
    "                mpole_dict_s = dict()\n",
    "                for order, mp_value in sigma['normal'].items():\n",
    "                    mpole_dict_n[order] = generate_normal_dist(\n",
    "                        sigma=mp_value, dim=(nr_mach, len(idcs)))\n",
    "                for order, mp_value in sigma['skew'].items():\n",
    "                    mpole_dict_s[order] = generate_normal_dist(\n",
    "                        sigma=mp_value, dim=(nr_mach, len(idcs)))\n",
    "                err_types[e_type] = {\n",
    "                    'normal': mpole_dict_n, 'skew': mpole_dict_s,\n",
    "                    'r0': sigma['r0']}\n",
    "            fam_errors_dict[fam_name] = err_types\n",
    "     \n",
    "        return fam_errors_dict"
   ]
  },
  {
   "cell_type": "code",
   "execution_count": 37,
   "metadata": {},
   "outputs": [],
   "source": [
    "fam_errors_dict = generate_errors(error_configs, famdata)"
   ]
  },
  {
   "cell_type": "code",
   "execution_count": 39,
   "metadata": {},
   "outputs": [
    {
     "data": {
      "text/plain": [
       "dict_keys(['B1', 'B2', 'BC', 'Q1', 'Q2', 'Q3', 'Q4', 'QFA', 'QDA', 'QFB', 'QDB1', 'QDB2', 'QFP', 'QDP1', 'QDP2', 'SFA0', 'SDA0', 'SFA1', 'SDA1', 'SFA2', 'SDA2', 'SDA3', 'SFB0', 'SDB0', 'SFB1', 'SDB1', 'SFB2', 'SDB2', 'SDB3', 'SDP0', 'SFP0', 'SFP1', 'SDP1', 'SFP2', 'SDP2', 'SDP3', 'QS', 'BPM', 'girder'])"
      ]
     },
     "execution_count": 39,
     "metadata": {},
     "output_type": "execute_result"
    }
   ],
   "source": [
    "fam_errors_dict.keys()"
   ]
  }
 ],
 "metadata": {
  "kernelspec": {
   "display_name": "sirius",
   "language": "python",
   "name": "python3"
  },
  "language_info": {
   "codemirror_mode": {
    "name": "ipython",
    "version": 3
   },
   "file_extension": ".py",
   "mimetype": "text/x-python",
   "name": "python",
   "nbconvert_exporter": "python",
   "pygments_lexer": "ipython3",
   "version": "3.9.2"
  },
  "orig_nbformat": 4,
  "vscode": {
   "interpreter": {
    "hash": "bd47041ee29abeb3e94b753c188d5fca44afcfc2289c44ee2540cf8e7426cad6"
   }
  }
 },
 "nbformat": 4,
 "nbformat_minor": 2
}
