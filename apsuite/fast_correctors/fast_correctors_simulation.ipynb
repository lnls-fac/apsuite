{
 "cells": [
  {
   "cell_type": "code",
   "execution_count": 6,
   "id": "64f6c35d",
   "metadata": {},
   "outputs": [],
   "source": [
    "from mathphys.functions import save_pickle"
   ]
  },
  {
   "cell_type": "code",
   "execution_count": 3,
   "id": "6b0765f1",
   "metadata": {},
   "outputs": [
    {
     "name": "stdout",
     "output_type": "stream",
     "text": [
      "ok\n"
     ]
    }
   ],
   "source": [
    "# %load model\n",
    "#!/usr/bin/env python-sirius\n",
    "\n",
    "\"\"\".\"\"\"\n",
    "\n",
    "import numpy as np\n",
    "\n",
    "import pyaccel\n",
    "from pymodels import si\n",
    "\n",
    "\n",
    "def create_model():\n",
    "    \"\"\"Return SI model and family data.\"\"\"\n",
    "    # create model and set global parms for 6D tracking\n",
    "    model = si.create_accelerator()\n",
    "    model.cavity_on = True\n",
    "    model.radiation_on = True\n",
    "    model.vchamber_on = True\n",
    "    # get family data\n",
    "    famdata = si.get_family_data(model)\n",
    "    fch_names = famdata['FCH']['devnames']\n",
    "    fcv_names = famdata['FCV']['devnames']\n",
    "    bpm_names = famdata['BPM']['devnames']\n",
    "    fch_idx = famdata['FCH']['index']\n",
    "    fcv_idx = famdata['FCV']['index']\n",
    "    bpm_idx = [item[0] for item in famdata['BPM']['index']]\n",
    "    # bpm_idx = pa.lattice.find_indices(si, 'fam_name', 'BPM')\n",
    "    return model, bpm_names, fch_names, fcv_names, fch_idx, fcv_idx, bpm_idx\n",
    "\n",
    "\n",
    "\n",
    "def calc_orbit_respm(model, bpm_idx, corr_idx, plane):\n",
    "    \"\"\".\"\"\"\n",
    "    nrows = len(bpm_idx)\n",
    "    ncolumns = len(corr_idx)\n",
    "    respm = np.zeros([2*nrows, ncolumns])\n",
    "    kick = 10e-6\n",
    "    for j, fidx in enumerate(corr_idx):\n",
    "        if plane.lower() == 'x':\n",
    "            model[fidx[0]].hkick_polynom = +kick/2\n",
    "        else:\n",
    "            model[fidx[0]].vkick_polynom = +kick/2\n",
    "        orbit1 = pyaccel.tracking.find_orbit6(accelerator=model, indices=bpm_idx)\n",
    "        if plane.lower() == 'x':\n",
    "            model[fidx[0]].hkick_polynom = -kick/2\n",
    "        else:\n",
    "            model[fidx[0]].vkick_polynom = -kick/2\n",
    "        orbit2 = pyaccel.tracking.find_orbit6(accelerator=model, indices=bpm_idx)\n",
    "        dorbitx = orbit1[0] - orbit2[0]\n",
    "        respm[:nrows, j] = dorbitx\n",
    "        dorbity = orbit1[2] - orbit2[2]\n",
    "        respm[nrows:, j] = dorbity\n",
    "        if plane.lower() == 'x':\n",
    "            model[fidx[0]].hkick_polynom = 0\n",
    "        else:\n",
    "            model[fidx[0]].vkick_polynom = 0\n",
    "    return respm\n",
    "\n",
    "\n",
    "if __name__ == \"__main__\":\n",
    "    model, bpm_names, fch_names, fcv_names, fch_idx, fcv_idx, bpm_idx = create_model()\n",
    "    respmx = calc_orbit_respm(model, bpm_idx, fch_idx, 'x')\n",
    "    respmy = calc_orbit_respm(model, bpm_idx, fcv_idx, 'y')\n",
    "    print('ok')\n"
   ]
  },
  {
   "cell_type": "code",
   "execution_count": 4,
   "id": "75e3aabc",
   "metadata": {
    "ExecuteTime": {
     "end_time": "2022-05-24T15:39:14.671306Z",
     "start_time": "2022-05-24T15:39:14.667466Z"
    }
   },
   "outputs": [],
   "source": [
    "model, bpm_names, fch_names, fcv_names, fch_idx, fcv_idx, bpm_idx = create_model()\n",
    "respmx = calc_orbit_respm(model, bpm_idx, fch_idx, 'x')\n",
    "respmy = calc_orbit_respm(model, bpm_idx, fcv_idx, 'y')"
   ]
  },
  {
   "cell_type": "code",
   "execution_count": 10,
   "id": "c56c200d",
   "metadata": {
    "ExecuteTime": {
     "end_time": "2022-05-24T15:39:16.650168Z",
     "start_time": "2022-05-24T15:39:16.646343Z"
    }
   },
   "outputs": [],
   "source": [
    "data = {\n",
    "    'respmx': respmx,\n",
    "    'respmy': respmy\n",
    "}\n",
    "save_pickle(data, 'fast-corr-cod-signature-model', True)"
   ]
  }
 ],
 "metadata": {
  "kernelspec": {
   "display_name": "Python 3 (ipykernel)",
   "language": "python",
   "name": "python3"
  },
  "language_info": {
   "codemirror_mode": {
    "name": "ipython",
    "version": 3
   },
   "file_extension": ".py",
   "mimetype": "text/x-python",
   "name": "python",
   "nbconvert_exporter": "python",
   "pygments_lexer": "ipython3",
   "version": "3.9.2"
  },
  "toc": {
   "base_numbering": 1,
   "nav_menu": {},
   "number_sections": true,
   "sideBar": true,
   "skip_h1_title": false,
   "title_cell": "Table of Contents",
   "title_sidebar": "Contents",
   "toc_cell": false,
   "toc_position": {},
   "toc_section_display": true,
   "toc_window_display": false
  },
  "varInspector": {
   "cols": {
    "lenName": 16,
    "lenType": 16,
    "lenVar": 40
   },
   "kernels_config": {
    "python": {
     "delete_cmd_postfix": "",
     "delete_cmd_prefix": "del ",
     "library": "var_list.py",
     "varRefreshCmd": "print(var_dic_list())"
    },
    "r": {
     "delete_cmd_postfix": ") ",
     "delete_cmd_prefix": "rm(",
     "library": "var_list.r",
     "varRefreshCmd": "cat(var_dic_list()) "
    }
   },
   "types_to_exclude": [
    "module",
    "function",
    "builtin_function_or_method",
    "instance",
    "_Feature"
   ],
   "window_display": false
  }
 },
 "nbformat": 4,
 "nbformat_minor": 5
}
